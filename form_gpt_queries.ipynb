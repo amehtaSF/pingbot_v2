{
 "cells": [
  {
   "cell_type": "code",
   "execution_count": 1,
   "metadata": {},
   "outputs": [],
   "source": [
    "\n",
    "query = \"\"\"\n",
    "I am making a ecological momentary assessment app with flask backend and react frontend. \n",
    "Here are some of the files that I have created so far:\n",
    "\n",
    "\"\"\""
   ]
  },
  {
   "cell_type": "code",
   "execution_count": 2,
   "metadata": {},
   "outputs": [],
   "source": [
    "\n",
    "fpath = \"react_frontend/src/App.js\"\n",
    "query += fpath\n",
    "query += \"\\n\"\n",
    "query += \"``` python\"\n",
    "query += \"\\n\"\n",
    "with open(fpath, \"r\") as f:\n",
    "    query += f.read()\n",
    "query += \"```\"\n",
    "query += \"\\n\"\n",
    "query += \"\\n\""
   ]
  },
  {
   "cell_type": "code",
   "execution_count": 86,
   "metadata": {},
   "outputs": [],
   "source": [
    "\n",
    "fpath = \"flask_app/app.py\"\n",
    "query += fpath\n",
    "query += \"\\n\"\n",
    "query += \"``` python\"\n",
    "query += \"\\n\"\n",
    "with open(fpath, \"r\") as f:\n",
    "    query += f.read()\n",
    "query += \"```\"\n",
    "query += \"\\n\"\n",
    "query += \"\\n\""
   ]
  },
  {
   "cell_type": "code",
   "execution_count": 87,
   "metadata": {},
   "outputs": [],
   "source": [
    "\n",
    "fpath = \"flask_app/models.py\"\n",
    "query += fpath\n",
    "query += \"\\n\"\n",
    "query += \"``` python\"\n",
    "query += \"\\n\"\n",
    "with open(fpath, \"r\") as f:\n",
    "    query += f.read()\n",
    "query += \"```\"\n",
    "query += \"\\n\"\n",
    "query += \"\\n\""
   ]
  },
  {
   "cell_type": "code",
   "execution_count": 9,
   "metadata": {},
   "outputs": [],
   "source": [
    "\n",
    "fpath = \"flask_app/blueprints/studies.py\"\n",
    "query += fpath\n",
    "query += \"\\n\"\n",
    "query += \"```\"\n",
    "query += \"\\n\"\n",
    "with open(fpath, \"r\") as f:\n",
    "    query += f.read()\n",
    "query += \"```\"\n",
    "query += \"\\n\"\n",
    "query += \"\\n\""
   ]
  },
  {
   "cell_type": "code",
   "execution_count": 10,
   "metadata": {},
   "outputs": [],
   "source": [
    "\n",
    "fpath = \"react_frontend/src/pages/StudyDashboard.js\"\n",
    "query += fpath\n",
    "query += \"\\n\"\n",
    "query += \"```\"\n",
    "query += \"\\n\"\n",
    "with open(fpath, \"r\") as f:\n",
    "    query += f.read()\n",
    "query += \"```\"\n",
    "query += \"\\n\"\n",
    "query += \"\\n\""
   ]
  },
  {
   "cell_type": "code",
   "execution_count": 3,
   "metadata": {},
   "outputs": [],
   "source": [
    "\n",
    "fpath = \"flask_app/blueprints/ping_templates.py\"\n",
    "query += fpath\n",
    "query += \"\\n\"\n",
    "query += \"```\"\n",
    "query += \"\\n\"\n",
    "with open(fpath, \"r\") as f:\n",
    "    query += f.read()\n",
    "query += \"```\"\n",
    "query += \"\\n\"\n",
    "query += \"\\n\""
   ]
  },
  {
   "cell_type": "code",
   "execution_count": 4,
   "metadata": {},
   "outputs": [],
   "source": [
    "\n",
    "fpath = \"react_frontend/src/pages/PingTemplateDashboard.js\"\n",
    "query += fpath\n",
    "query += \"\\n\"\n",
    "query += \"```\"\n",
    "query += \"\\n\"\n",
    "with open(fpath, \"r\") as f:\n",
    "    query += f.read()\n",
    "query += \"```\"\n",
    "query += \"\\n\"\n",
    "query += \"\\n\""
   ]
  },
  {
   "cell_type": "code",
   "execution_count": null,
   "metadata": {},
   "outputs": [],
   "source": [
    "\n",
    "fpath = \"flask_app/blueprints/pings.py\"\n",
    "query += fpath\n",
    "query += \"\\n\"\n",
    "query += \"```\"\n",
    "query += \"\\n\"\n",
    "with open(fpath, \"r\") as f:\n",
    "    query += f.read()\n",
    "query += \"```\"\n",
    "query += \"\\n\"\n",
    "query += \"\\n\""
   ]
  },
  {
   "cell_type": "code",
   "execution_count": null,
   "metadata": {},
   "outputs": [],
   "source": [
    "\n",
    "fpath = \"react_frontend/src/pages/PingDashboard.js\"\n",
    "query += fpath\n",
    "query += \"\\n\"\n",
    "query += \"```\"\n",
    "query += \"\\n\"\n",
    "with open(fpath, \"r\") as f:\n",
    "    query += f.read()\n",
    "query += \"```\"\n",
    "query += \"\\n\"\n",
    "query += \"\\n\""
   ]
  },
  {
   "cell_type": "code",
   "execution_count": null,
   "metadata": {},
   "outputs": [],
   "source": [
    "\n",
    "fpath = \"flask_app/blueprints/enrollments.py\"\n",
    "query += fpath\n",
    "query += \"\\n\"\n",
    "query += \"```\"\n",
    "query += \"\\n\"\n",
    "with open(fpath, \"r\") as f:\n",
    "    query += f.read()\n",
    "query += \"```\"\n",
    "query += \"\\n\"\n",
    "query += \"\\n\""
   ]
  },
  {
   "cell_type": "code",
   "execution_count": null,
   "metadata": {},
   "outputs": [],
   "source": [
    "\n",
    "fpath = \"react_frontend/src/pages/EnrollmentDashboard.js\"\n",
    "query += fpath\n",
    "query += \"\\n\"\n",
    "query += \"```\"\n",
    "query += \"\\n\"\n",
    "with open(fpath, \"r\") as f:\n",
    "    query += f.read()\n",
    "query += \"```\"\n",
    "query += \"\\n\"\n",
    "query += \"\\n\""
   ]
  },
  {
   "cell_type": "code",
   "execution_count": null,
   "metadata": {},
   "outputs": [],
   "source": [
    "\n",
    "\n",
    "query += \"\"\"\n",
    "\n",
    "- ok now make similar ping dashboard and participant dashboards.\n",
    "- note that internally i call participant as enrollment, but in the frontend i call it participant.\n",
    "\n",
    "\"\"\""
   ]
  },
  {
   "cell_type": "code",
   "execution_count": 12,
   "metadata": {},
   "outputs": [],
   "source": [
    "with open(\"gpt_query.txt\", \"w\") as f:\n",
    "    f.write(query)"
   ]
  },
  {
   "cell_type": "code",
   "execution_count": 13,
   "metadata": {},
   "outputs": [],
   "source": [
    "query = \"\""
   ]
  },
  {
   "cell_type": "code",
   "execution_count": null,
   "metadata": {},
   "outputs": [],
   "source": []
  }
 ],
 "metadata": {
  "kernelspec": {
   "display_name": "venv",
   "language": "python",
   "name": "python3"
  },
  "language_info": {
   "codemirror_mode": {
    "name": "ipython",
    "version": 3
   },
   "file_extension": ".py",
   "mimetype": "text/x-python",
   "name": "python",
   "nbconvert_exporter": "python",
   "pygments_lexer": "ipython3",
   "version": "3.11.9"
  }
 },
 "nbformat": 4,
 "nbformat_minor": 2
}
