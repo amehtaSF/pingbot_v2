{
 "cells": [
  {
   "cell_type": "code",
   "execution_count": 84,
   "metadata": {},
   "outputs": [],
   "source": [
    "\n",
    "query = \"\"\"\n",
    "I am making a ecological momentary assessment app with flask backend and react frontend. \n",
    "Here are some of the files that I have created so far:\n",
    "\n",
    "\n",
    "\"\"\""
   ]
  },
  {
   "cell_type": "code",
   "execution_count": 85,
   "metadata": {},
   "outputs": [],
   "source": [
    "\n",
    "fpath = \"react_frontend/src/App.js\"\n",
    "query += fpath\n",
    "query += \"\\n\"\n",
    "query += \"``` python\"\n",
    "query += \"\\n\"\n",
    "with open(fpath, \"r\") as f:\n",
    "    query += f.read()\n",
    "query += \"```\"\n",
    "query += \"\\n\"\n",
    "query += \"\\n\""
   ]
  },
  {
   "cell_type": "code",
   "execution_count": 86,
   "metadata": {},
   "outputs": [],
   "source": [
    "\n",
    "fpath = \"flask_app/app.py\"\n",
    "query += fpath\n",
    "query += \"\\n\"\n",
    "query += \"``` python\"\n",
    "query += \"\\n\"\n",
    "with open(fpath, \"r\") as f:\n",
    "    query += f.read()\n",
    "query += \"```\"\n",
    "query += \"\\n\"\n",
    "query += \"\\n\""
   ]
  },
  {
   "cell_type": "code",
   "execution_count": 87,
   "metadata": {},
   "outputs": [],
   "source": [
    "\n",
    "fpath = \"flask_app/models.py\"\n",
    "query += fpath\n",
    "query += \"\\n\"\n",
    "query += \"``` python\"\n",
    "query += \"\\n\"\n",
    "with open(fpath, \"r\") as f:\n",
    "    query += f.read()\n",
    "query += \"```\"\n",
    "query += \"\\n\"\n",
    "query += \"\\n\""
   ]
  },
  {
   "cell_type": "code",
   "execution_count": 88,
   "metadata": {},
   "outputs": [],
   "source": [
    "\n",
    "fpath = \"flask_app/blueprints/studies.py\"\n",
    "query += fpath\n",
    "query += \"\\n\"\n",
    "query += \"``` python\"\n",
    "query += \"\\n\"\n",
    "with open(fpath, \"r\") as f:\n",
    "    query += f.read()\n",
    "query += \"```\"\n",
    "query += \"\\n\"\n",
    "query += \"\\n\""
   ]
  },
  {
   "cell_type": "code",
   "execution_count": 89,
   "metadata": {},
   "outputs": [],
   "source": [
    "\n",
    "fpath = \"react_frontend/src/pages/StudyDashboard.js\"\n",
    "query += fpath\n",
    "query += \"\\n\"\n",
    "query += \"``` python\"\n",
    "query += \"\\n\"\n",
    "with open(fpath, \"r\") as f:\n",
    "    query += f.read()\n",
    "query += \"```\"\n",
    "query += \"\\n\"\n",
    "query += \"\\n\""
   ]
  },
  {
   "cell_type": "code",
   "execution_count": 90,
   "metadata": {},
   "outputs": [],
   "source": [
    "# query += \"\"\"\n",
    "\n",
    "# You see the study backend and frontend. You also have my models. Now make an appropriate backend and frontend for ping templates.\n",
    "    \n",
    "# \"\"\"\n",
    "\n",
    "query += \"\"\"\n",
    "\n",
    "make a file pings.py in the blueprints folder. make crud routes similar to what you see with studies.py.\n",
    "\n",
    "then make a file PingDashboard.js in the pages folder. make a component that lists all the pings that belong to the current user. \n",
    "provide an advanced search feature that allows the user to search in a field specific way and filter the pings.\n",
    "They should also have functionality to create, update, and delete pings.\n",
    "updating should be done by allowing them to click on the ping and then updating the fields in a form.\n",
    "\n",
    "\"\"\""
   ]
  },
  {
   "cell_type": "code",
   "execution_count": 75,
   "metadata": {},
   "outputs": [],
   "source": [
    "\n",
    "\n",
    "query += \"\"\"\n",
    "\n",
    "the problem is that study id is not none when being passed to user studies when i make a study. how to fix\n",
    "\n",
    "\"\"\""
   ]
  },
  {
   "cell_type": "code",
   "execution_count": 91,
   "metadata": {},
   "outputs": [],
   "source": [
    "with open(\"gpt_query.txt\", \"w\") as f:\n",
    "    f.write(query)"
   ]
  },
  {
   "cell_type": "code",
   "execution_count": null,
   "metadata": {},
   "outputs": [],
   "source": []
  }
 ],
 "metadata": {
  "kernelspec": {
   "display_name": "venv",
   "language": "python",
   "name": "python3"
  },
  "language_info": {
   "codemirror_mode": {
    "name": "ipython",
    "version": 3
   },
   "file_extension": ".py",
   "mimetype": "text/x-python",
   "name": "python",
   "nbconvert_exporter": "python",
   "pygments_lexer": "ipython3",
   "version": "3.11.9"
  }
 },
 "nbformat": 4,
 "nbformat_minor": 2
}
